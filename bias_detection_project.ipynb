{
  "nbformat": 4,
  "nbformat_minor": 0,
  "metadata": {
    "colab": {
      "provenance": [],
      "gpuType": "T4",
      "authorship_tag": "ABX9TyOH2kVm/Tlf7FsCCNrM+CWa",
      "include_colab_link": true
    },
    "kernelspec": {
      "name": "python3",
      "display_name": "Python 3"
    },
    "language_info": {
      "name": "python"
    },
    "accelerator": "GPU"
  },
  "cells": [
    {
      "cell_type": "markdown",
      "metadata": {
        "id": "view-in-github",
        "colab_type": "text"
      },
      "source": [
        "<a href=\"https://colab.research.google.com/github/unnatiiiiiiiiii/bias-detection/blob/main/bias_detection_project.ipynb\" target=\"_parent\"><img src=\"https://colab.research.google.com/assets/colab-badge.svg\" alt=\"Open In Colab\"/></a>"
      ]
    },
    {
      "cell_type": "code",
      "execution_count": 1,
      "metadata": {
        "id": "Vs9_TbBfej8P",
        "colab": {
          "base_uri": "https://localhost:8080/"
        },
        "outputId": "18f37bf0-e044-4f1b-c5b8-284003ed4d52"
      },
      "outputs": [
        {
          "output_type": "stream",
          "name": "stdout",
          "text": [
            "All good 🚀\n"
          ]
        }
      ],
      "source": [
        "import torch, transformers, pandas\n",
        "print(\"All good 🚀\")\n"
      ]
    },
    {
      "cell_type": "code",
      "source": [
        "from google.colab import drive\n",
        "drive.mount('/content/drive')\n"
      ],
      "metadata": {
        "colab": {
          "base_uri": "https://localhost:8080/"
        },
        "id": "KxCQgZPegcJQ",
        "outputId": "c27cc1db-73c9-4109-b1b0-64458551cefa"
      },
      "execution_count": 2,
      "outputs": [
        {
          "output_type": "stream",
          "name": "stdout",
          "text": [
            "Mounted at /content/drive\n"
          ]
        }
      ]
    },
    {
      "cell_type": "code",
      "source": [
        "!mkdir -p /content/drive/MyDrive/bias-detection\n",
        "%cd /content/drive/MyDrive/bias-detection\n"
      ],
      "metadata": {
        "colab": {
          "base_uri": "https://localhost:8080/"
        },
        "id": "a2U4HvpEhSkK",
        "outputId": "bc305256-025b-4a75-d642-bb66a3364394"
      },
      "execution_count": 3,
      "outputs": [
        {
          "output_type": "stream",
          "name": "stdout",
          "text": [
            "/content/drive/MyDrive/bias-detection\n"
          ]
        }
      ]
    },
    {
      "cell_type": "code",
      "source": [
        "# Create basic folder structure\n",
        "!mkdir -p data notebooks src results tests\n",
        "\n",
        "# Create empty placeholder files\n",
        "!touch README.md requirements.txt .gitignore\n",
        "!echo \"Bias Detection in AI Models\\n\" > README.md\n",
        "!echo \"__pycache__/\" > .gitignore\n",
        "!apt install tree -y\n",
        "\n",
        "# Show structure\n",
        "!tree -L 1\n",
        "!apt install tree -y\n"
      ],
      "metadata": {
        "colab": {
          "base_uri": "https://localhost:8080/"
        },
        "id": "BqWyA2cChXSU",
        "outputId": "9f0f473f-7878-459f-f17e-dccd020bf4af"
      },
      "execution_count": 5,
      "outputs": [
        {
          "output_type": "stream",
          "name": "stdout",
          "text": [
            "Reading package lists... Done\n",
            "Building dependency tree... Done\n",
            "Reading state information... Done\n",
            "The following NEW packages will be installed:\n",
            "  tree\n",
            "0 upgraded, 1 newly installed, 0 to remove and 38 not upgraded.\n",
            "Need to get 47.9 kB of archives.\n",
            "After this operation, 116 kB of additional disk space will be used.\n",
            "Get:1 http://archive.ubuntu.com/ubuntu jammy/universe amd64 tree amd64 2.0.2-1 [47.9 kB]\n",
            "Fetched 47.9 kB in 1s (42.7 kB/s)\n",
            "Selecting previously unselected package tree.\n",
            "(Reading database ... 126718 files and directories currently installed.)\n",
            "Preparing to unpack .../tree_2.0.2-1_amd64.deb ...\n",
            "Unpacking tree (2.0.2-1) ...\n",
            "Setting up tree (2.0.2-1) ...\n",
            "Processing triggers for man-db (2.10.2-1) ...\n",
            "\u001b[01;34m.\u001b[0m\n",
            "├── \u001b[01;34mdata\u001b[0m\n",
            "├── \u001b[01;34mnotebooks\u001b[0m\n",
            "├── \u001b[00mREADME.md\u001b[0m\n",
            "├── \u001b[00mrequirements.txt\u001b[0m\n",
            "├── \u001b[01;34mresults\u001b[0m\n",
            "├── \u001b[01;34msrc\u001b[0m\n",
            "└── \u001b[01;34mtests\u001b[0m\n",
            "\n",
            "5 directories, 2 files\n",
            "Reading package lists... Done\n",
            "Building dependency tree... Done\n",
            "Reading state information... Done\n",
            "tree is already the newest version (2.0.2-1).\n",
            "0 upgraded, 0 newly installed, 0 to remove and 38 not upgraded.\n"
          ]
        }
      ]
    }
  ]
}